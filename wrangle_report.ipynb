{
 "cells": [
  {
   "cell_type": "markdown",
   "metadata": {},
   "source": [
    "## WeRateDogs Twitter Archive : wrangle_report\n"
   ]
  },
  {
   "cell_type": "markdown",
   "metadata": {},
   "source": [
    "In this report, the processes involved in the wrangling and cleaning the data for analyses of the WeRateDogs Twitter Archive will be outlined\n",
    "\n",
    "### Data Gathering\n",
    "\n",
    "Each of the three datasets was gathered from distinct Sources\n",
    "\n",
    "1. WeRateDogs Twitter Archive Enhanced, a csv file which was downloaded directly from the Udacity server\n",
    "2. Image predictions, a Tsv file which is present in a neural network hosted on Udacity's servers and was downloaded programmatically using the Requests library from udacity\n",
    "3. Using the tweet IDs in the WeRateDogs Twitter archive, Twitter API was queried for each tweet's JSON data using Python's Tweepy library.\n",
    "\n",
    "Each data set was loaded into separate dataframe for assessment and cleaning.\n",
    "\n",
    "### Assessment\n",
    "\n",
    "Each of the different datasets was assessed both visually and programmatically using python pandas library. Pandas library functions used for the programmatic assessement includes; info, describe, sample, value_counts, duplicate, head, etc. Several quality and tidiness issues were noted during the assessment which was further cleaned.\n",
    "\n",
    "### Cleaning\n",
    "\n",
    "All rows containing non-null values were dropped as well as columns containing informations on retweets and reply as only original tweets data was the requirement for this analyses. \n",
    "\n",
    "The timestamp and tweet_id column in the twitter archive enhanced was converted to datatime and string respectively. \n",
    "\n",
    "Both the rating_denominator and rating_numerator were cleaned to meet the standard rating of 10 and rating between 10 - 15 respectively. The rating denominator was dropped to achieve one rating column for the analyses. \n",
    "\n",
    "Tweets with missing values in expanded_urls was dropped alongside the expanded_urls column. \n",
    "\n",
    "Odd words found in the name column were replaced with 'none'.\n",
    "\n",
    "The retweet_count and favorite_count columns in the json file generated from twitter API was extracted and merged with the twitter Archive. Dog_breed and Confidence was extracted from image predictions and merged to Twitter Archive Enhanced file.\n",
    "\n",
    "The gathered, assessed, and cleaned master dataset was saved to a CSV file named \"twitter_archive_master.csv\" which was further analysed for insights into the dataset.\n",
    "\n",
    "\n"
   ]
  }
 ],
 "metadata": {
  "kernelspec": {
   "display_name": "Python 3",
   "language": "python",
   "name": "python3"
  },
  "language_info": {
   "codemirror_mode": {
    "name": "ipython",
    "version": 3
   },
   "file_extension": ".py",
   "mimetype": "text/x-python",
   "name": "python",
   "nbconvert_exporter": "python",
   "pygments_lexer": "ipython3",
   "version": "3.6.3"
  }
 },
 "nbformat": 4,
 "nbformat_minor": 2
}
